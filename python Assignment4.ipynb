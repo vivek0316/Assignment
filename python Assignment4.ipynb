{
 "cells": [
  {
   "cell_type": "markdown",
   "id": "65e6216b",
   "metadata": {},
   "source": [
    "# Python_Assignment 4"
   ]
  },
  {
   "cell_type": "raw",
   "id": "d8621140",
   "metadata": {},
   "source": [
    "1.1 Write a Python Program(with class concepts) to find the area of the triangle using the below \n",
    "formula.\n",
    "area = (s*(s-a)*(s-b)*(s-c)) ** 0.5\n",
    "Function to take the length of the sides of triangle from user should be defined in the parent \n",
    "class and function to calculate the area should be defined in subclass."
   ]
  },
  {
   "cell_type": "code",
   "execution_count": 1,
   "id": "33e71e86",
   "metadata": {},
   "outputs": [
    {
     "name": "stdout",
     "output_type": "stream",
     "text": [
      "Area of triangle: 1.7320508075688772\n"
     ]
    }
   ],
   "source": [
    "class triangle:\n",
    "    def __init__(self,a,b,c):\n",
    "        self.a = a\n",
    "        self.b = b\n",
    "        self.c = c\n",
    "    def area(self):\n",
    "        s = (self.a + self.b + self.c) / 2\n",
    "        return (s*(s-self.a)*(s-self.b)*(s-self.c)) ** 0.5\n",
    "    \n",
    "q = triangle(2,2,2)\n",
    "print(\"Area of triangle:\",q.area())"
   ]
  },
  {
   "cell_type": "raw",
   "id": "cc37c939",
   "metadata": {},
   "source": [
    "1.2 Write a function filter_long_words() that takes a list of words and an integer n and returns \n",
    "the list of words that are longer than n."
   ]
  },
  {
   "cell_type": "code",
   "execution_count": 2,
   "id": "614b3f40",
   "metadata": {},
   "outputs": [
    {
     "name": "stdout",
     "output_type": "stream",
     "text": [
      "Poetry has a long and varied history, evolving differentially across the globe\n"
     ]
    },
    {
     "data": {
      "text/plain": [
       "['Poetry',\n",
       " 'varied',\n",
       " 'history,',\n",
       " 'evolving',\n",
       " 'differentially',\n",
       " 'across',\n",
       " 'globe']"
      ]
     },
     "execution_count": 2,
     "metadata": {},
     "output_type": "execute_result"
    }
   ],
   "source": [
    "a = []\n",
    "x = input()\n",
    "def filter_long_words(word,n):\n",
    "    for i in word.split(\" \"):\n",
    "        if len(i) > n:\n",
    "            a.append(i)\n",
    "    return a\n",
    "\n",
    "filter_long_words(x,4)"
   ]
  },
  {
   "cell_type": "raw",
   "id": "2c4b7b3d",
   "metadata": {},
   "source": [
    "2.1 Write a Python program using function concept that maps list of words into a list of integers \n",
    "representing the lengths of the corresponding words.\n",
    "Hint: If a list [ab,cde,erty] is passed on to the python function output should come as [2,3,4]\n",
    "Here 2,3 and 4 are the lengths of the words in the list."
   ]
  },
  {
   "cell_type": "code",
   "execution_count": 3,
   "id": "19cf4ed2",
   "metadata": {},
   "outputs": [
    {
     "name": "stdout",
     "output_type": "stream",
     "text": [
      "Poetry has a long and varied history, evolving differentially across the globe\n",
      "List of words: ['Poetry', 'has', 'a', 'long', 'and', 'varied', 'history,', 'evolving', 'differentially', 'across', 'the', 'globe']\n",
      "List of interger: [6, 3, 1, 4, 3, 6, 8, 8, 14, 6, 3, 5]\n"
     ]
    }
   ],
   "source": [
    "x = input().split(\" \")\n",
    "\n",
    "def word_to_int(l1):\n",
    "    print(\"List of words:\",l1)\n",
    "    list_int = []\n",
    "    for j in l1:\n",
    "        list_int.append(len(j))\n",
    "    print(\"List of interger:\",list_int)\n",
    "\n",
    "word_to_int(x)"
   ]
  },
  {
   "cell_type": "raw",
   "id": "c8482ab5",
   "metadata": {},
   "source": [
    "2.2 Write a Python function which takes a character (i.e. a string of length 1) and returns True if \n",
    "it is a vowel, False otherwise."
   ]
  },
  {
   "cell_type": "code",
   "execution_count": 4,
   "id": "3862ba57",
   "metadata": {},
   "outputs": [
    {
     "data": {
      "text/plain": [
       "False"
      ]
     },
     "execution_count": 4,
     "metadata": {},
     "output_type": "execute_result"
    }
   ],
   "source": [
    "def char_fun(txt):\n",
    "    x= \"aeiou\"\n",
    "    return txt in x\n",
    "        \n",
    "char_fun(\"b\")"
   ]
  },
  {
   "cell_type": "code",
   "execution_count": null,
   "id": "9fd00d9c",
   "metadata": {},
   "outputs": [],
   "source": []
  },
  {
   "cell_type": "code",
   "execution_count": null,
   "id": "e43128a3",
   "metadata": {},
   "outputs": [],
   "source": []
  }
 ],
 "metadata": {
  "kernelspec": {
   "display_name": "Python 3",
   "language": "python",
   "name": "python3"
  },
  "language_info": {
   "codemirror_mode": {
    "name": "ipython",
    "version": 3
   },
   "file_extension": ".py",
   "mimetype": "text/x-python",
   "name": "python",
   "nbconvert_exporter": "python",
   "pygments_lexer": "ipython3",
   "version": "3.8.10"
  }
 },
 "nbformat": 4,
 "nbformat_minor": 5
}
